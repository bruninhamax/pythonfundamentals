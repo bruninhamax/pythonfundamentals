{
 "cells": [
  {
   "cell_type": "code",
   "execution_count": 2,
   "metadata": {},
   "outputs": [],
   "source": [
    "lista = [1,2,3]"
   ]
  },
  {
   "cell_type": "code",
   "execution_count": 3,
   "metadata": {},
   "outputs": [
    {
     "data": {
      "text/plain": [
       "[1, 2, 3]"
      ]
     },
     "execution_count": 3,
     "metadata": {},
     "output_type": "execute_result"
    }
   ],
   "source": [
    "lista"
   ]
  },
  {
   "cell_type": "code",
   "execution_count": 4,
   "metadata": {
    "collapsed": true
   },
   "outputs": [
    {
     "ename": "AttributeError",
     "evalue": "module 'pandas' has no attribute 'read_csv'",
     "output_type": "error",
     "traceback": [
      "\u001b[0;31m---------------------------------------------------------------------------\u001b[0m",
      "\u001b[0;31mAttributeError\u001b[0m                            Traceback (most recent call last)",
      "\u001b[0;32m<ipython-input-4-7dd3504c366f>\u001b[0m in \u001b[0;36m<module>\u001b[0;34m\u001b[0m\n\u001b[0;32m----> 1\u001b[0;31m \u001b[0;32mimport\u001b[0m \u001b[0mpandas\u001b[0m \u001b[0;32mas\u001b[0m \u001b[0mpd\u001b[0m\u001b[0;34m\u001b[0m\u001b[0;34m\u001b[0m\u001b[0m\n\u001b[0m",
      "\u001b[0;32m~/pythonfundamentals/Aulas/pandas.py\u001b[0m in \u001b[0;36m<module>\u001b[0;34m\u001b[0m\n\u001b[1;32m      3\u001b[0m \u001b[0;31m# df = pd.read_csv('/home/developer/pythonfundamentals/Arquivos/salarios.csv', encoding='UTF-8')\u001b[0m\u001b[0;34m\u001b[0m\u001b[0;34m\u001b[0m\u001b[0;34m\u001b[0m\u001b[0m\n\u001b[1;32m      4\u001b[0m \u001b[0;31m# df = pd.read_csv('/home/developer/pythonfundamentals/Arquivos/salarios.csv', usecols=['Name','Employee Annual Salary'])\u001b[0m\u001b[0;34m\u001b[0m\u001b[0;34m\u001b[0m\u001b[0;34m\u001b[0m\u001b[0m\n\u001b[0;32m----> 5\u001b[0;31m \u001b[0mdf\u001b[0m \u001b[0;34m=\u001b[0m \u001b[0mpd\u001b[0m\u001b[0;34m.\u001b[0m\u001b[0mread_csv\u001b[0m\u001b[0;34m(\u001b[0m\u001b[0;34m'/home/developer/pythonfundamentals/Arquivos/salarios.csv'\u001b[0m\u001b[0;34m,\u001b[0m \u001b[0mnrows\u001b[0m\u001b[0;34m=\u001b[0m\u001b[0;36m30\u001b[0m\u001b[0;34m)\u001b[0m\u001b[0;34m\u001b[0m\u001b[0;34m\u001b[0m\u001b[0m\n\u001b[0m\u001b[1;32m      6\u001b[0m \u001b[0;34m\u001b[0m\u001b[0m\n\u001b[1;32m      7\u001b[0m \u001b[0;31m# Criando um novo arquivo com apenas as colunas Name e Salary numa única coluna\u001b[0m\u001b[0;34m\u001b[0m\u001b[0;34m\u001b[0m\u001b[0;34m\u001b[0m\u001b[0m\n",
      "\u001b[0;31mAttributeError\u001b[0m: module 'pandas' has no attribute 'read_csv'"
     ]
    }
   ],
   "source": [
    "import pandas as pd"
   ]
  },
  {
   "cell_type": "code",
   "execution_count": 5,
   "metadata": {},
   "outputs": [
    {
     "name": "stdout",
     "output_type": "stream",
     "text": [
      "total 80\r\n",
      "drwxrwxr-x  4 developer developer 4096 nov 26 22:15 .\r\n",
      "drwxrwxr-x 12 developer developer 4096 nov 25 23:07 ..\r\n",
      "-rwxrwxr-x  1 developer developer  146 nov 22 22:19 aula01.py\r\n",
      "-rw-rw-r--  1 developer developer 2589 nov 22 22:19 aula02.py\r\n",
      "-rw-rw-r--  1 developer developer 2055 nov 22 22:19 aula03.py\r\n",
      "-rw-rw-r--  1 developer developer 4024 nov 22 22:19 aula04.py\r\n",
      "-rw-rw-r--  1 developer developer 1920 nov 22 22:19 aula05.py\r\n",
      "-rw-rw-r--  1 developer developer 1875 nov 22 22:19 aula06.py\r\n",
      "-rw-rw-r--  1 developer developer 2409 nov 22 22:19 aula07.py\r\n",
      "-rw-rw-r--  1 developer developer 1350 nov 25 22:39 aula09.py\r\n",
      "-rw-rw-r--  1 developer developer 1018 nov 25 22:35 aula09_teste.py\r\n",
      "-rw-rw-r--  1 developer developer 3029 nov 22 23:30 bancodados.py\r\n",
      "drwxrwxr-x  2 developer developer 4096 nov 26 22:15 .ipynb_checkpoints\r\n",
      "-rw-rw-r--  1 developer developer  977 nov 22 22:19 modulos.py\r\n",
      "-rw-rw-r--  1 developer developer  916 nov 22 22:19 pandas.py\r\n",
      "-rw-rw-r--  1 developer developer 1290 nov 22 22:19 poo.py\r\n",
      "drwxrwxr-x  2 developer developer 4096 nov 26 22:17 __pycache__\r\n",
      "-rw-rw-r--  1 developer developer 1979 nov 22 22:19 revisao.py\r\n",
      "-rw-rw-r--  1 developer developer  575 nov 26 22:05 ssh.py\r\n",
      "-rw-rw-r--  1 developer developer   72 nov 26 22:15 Untitled.ipynb\r\n"
     ]
    }
   ],
   "source": [
    "!ls -la"
   ]
  },
  {
   "cell_type": "code",
   "execution_count": null,
   "metadata": {},
   "outputs": [],
   "source": []
  }
 ],
 "metadata": {
  "kernelspec": {
   "display_name": "Python 3",
   "language": "python",
   "name": "python3"
  },
  "language_info": {
   "codemirror_mode": {
    "name": "ipython",
    "version": 3
   },
   "file_extension": ".py",
   "mimetype": "text/x-python",
   "name": "python",
   "nbconvert_exporter": "python",
   "pygments_lexer": "ipython3",
   "version": "3.6.8"
  }
 },
 "nbformat": 4,
 "nbformat_minor": 2
}
